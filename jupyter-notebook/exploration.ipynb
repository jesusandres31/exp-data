{
 "cells": [
  {
   "cell_type": "code",
   "execution_count": 1,
   "metadata": {},
   "outputs": [],
   "source": [
    "import pandas as pd\n",
    "\n",
    "articulos_file = \"../datalake/Articulos.csv\"  \n",
    "clientes_file = \"../datalake/Clientes.csv\"  \n",
    "factura_file = \"../datalake/Factura.csv\"  \n",
    "factura_detalle_file = \"../datalake/FacturaDetalle.csv\"  \n",
    "unidad_medida_file = \"../datalake/UnidadMedida.csv\"  \n",
    "\n",
    "articulos_df = pd.read_csv(articulos_file)\n",
    "clientes_df = pd.read_csv(clientes_file)\n",
    "factura_df = pd.read_csv(factura_file)\n",
    "factura_detalle_df = pd.read_csv(factura_detalle_file)\n",
    "unidad_medida_df = pd.read_csv(unidad_medida_file)"
   ]
  },
  {
   "attachments": {},
   "cell_type": "markdown",
   "metadata": {},
   "source": [
    "# Articulos"
   ]
  },
  {
   "cell_type": "code",
   "execution_count": 2,
   "metadata": {},
   "outputs": [
    {
     "data": {
      "text/html": [
       "<div>\n",
       "<style scoped>\n",
       "    .dataframe tbody tr th:only-of-type {\n",
       "        vertical-align: middle;\n",
       "    }\n",
       "\n",
       "    .dataframe tbody tr th {\n",
       "        vertical-align: top;\n",
       "    }\n",
       "\n",
       "    .dataframe thead th {\n",
       "        text-align: right;\n",
       "    }\n",
       "</style>\n",
       "<table border=\"1\" class=\"dataframe\">\n",
       "  <thead>\n",
       "    <tr style=\"text-align: right;\">\n",
       "      <th></th>\n",
       "      <th>Codigo</th>\n",
       "      <th>UM</th>\n",
       "      <th>Descripcion1</th>\n",
       "      <th>Actual</th>\n",
       "      <th>Precio01</th>\n",
       "      <th>Precio02</th>\n",
       "      <th>Precio03</th>\n",
       "      <th>Estado</th>\n",
       "    </tr>\n",
       "  </thead>\n",
       "  <tbody>\n",
       "    <tr>\n",
       "      <th>0</th>\n",
       "      <td>1</td>\n",
       "      <td>Uni</td>\n",
       "      <td>MANTECA ILOLAY X 200 GRS</td>\n",
       "      <td>-5925.0</td>\n",
       "      <td>865.0</td>\n",
       "      <td>908.25</td>\n",
       "      <td>821.75</td>\n",
       "      <td>ACTIVE</td>\n",
       "    </tr>\n",
       "    <tr>\n",
       "      <th>1</th>\n",
       "      <td>2</td>\n",
       "      <td>Uni</td>\n",
       "      <td>MANTECA ILOLAY X 100 GRS</td>\n",
       "      <td>-26281.0</td>\n",
       "      <td>445.0</td>\n",
       "      <td>467.25</td>\n",
       "      <td>422.75</td>\n",
       "      <td>ACTIVE</td>\n",
       "    </tr>\n",
       "    <tr>\n",
       "      <th>2</th>\n",
       "      <td>3</td>\n",
       "      <td>Uni</td>\n",
       "      <td>MANTECA   X 100 GRS</td>\n",
       "      <td>-5796.0</td>\n",
       "      <td>347.0</td>\n",
       "      <td>364.35</td>\n",
       "      <td>329.65</td>\n",
       "      <td>ACTIVE</td>\n",
       "    </tr>\n",
       "    <tr>\n",
       "      <th>3</th>\n",
       "      <td>4</td>\n",
       "      <td>Uni</td>\n",
       "      <td>MANTECA</td>\n",
       "      <td>0.0</td>\n",
       "      <td>0.0</td>\n",
       "      <td>0.00</td>\n",
       "      <td>0.00</td>\n",
       "      <td>INACTIVE</td>\n",
       "    </tr>\n",
       "    <tr>\n",
       "      <th>4</th>\n",
       "      <td>755</td>\n",
       "      <td>Uni</td>\n",
       "      <td>DULCE DE LECHE ILOLAY X 200 GRS</td>\n",
       "      <td>-466562.0</td>\n",
       "      <td>445.0</td>\n",
       "      <td>467.25</td>\n",
       "      <td>422.75</td>\n",
       "      <td>ACTIVE</td>\n",
       "    </tr>\n",
       "  </tbody>\n",
       "</table>\n",
       "</div>"
      ],
      "text/plain": [
       "   Codigo   UM                     Descripcion1    Actual  Precio01  Precio02  \\\n",
       "0       1  Uni         MANTECA ILOLAY X 200 GRS   -5925.0     865.0    908.25   \n",
       "1       2  Uni         MANTECA ILOLAY X 100 GRS  -26281.0     445.0    467.25   \n",
       "2       3  Uni              MANTECA   X 100 GRS   -5796.0     347.0    364.35   \n",
       "3       4  Uni                          MANTECA       0.0       0.0      0.00   \n",
       "4     755  Uni  DULCE DE LECHE ILOLAY X 200 GRS -466562.0     445.0    467.25   \n",
       "\n",
       "   Precio03    Estado  \n",
       "0    821.75    ACTIVE  \n",
       "1    422.75    ACTIVE  \n",
       "2    329.65    ACTIVE  \n",
       "3      0.00  INACTIVE  \n",
       "4    422.75    ACTIVE  "
      ]
     },
     "execution_count": 2,
     "metadata": {},
     "output_type": "execute_result"
    }
   ],
   "source": [
    "articulos_df.head()"
   ]
  },
  {
   "cell_type": "code",
   "execution_count": 3,
   "metadata": {},
   "outputs": [
    {
     "data": {
      "text/plain": [
       "Index(['Codigo', 'UM', 'Descripcion1', 'Actual', 'Precio01', 'Precio02',\n",
       "       'Precio03', 'Estado'],\n",
       "      dtype='object')"
      ]
     },
     "execution_count": 3,
     "metadata": {},
     "output_type": "execute_result"
    }
   ],
   "source": [
    "articulos_df.columns "
   ]
  },
  {
   "cell_type": "code",
   "execution_count": 4,
   "metadata": {},
   "outputs": [
    {
     "data": {
      "text/html": [
       "<div>\n",
       "<style scoped>\n",
       "    .dataframe tbody tr th:only-of-type {\n",
       "        vertical-align: middle;\n",
       "    }\n",
       "\n",
       "    .dataframe tbody tr th {\n",
       "        vertical-align: top;\n",
       "    }\n",
       "\n",
       "    .dataframe thead th {\n",
       "        text-align: right;\n",
       "    }\n",
       "</style>\n",
       "<table border=\"1\" class=\"dataframe\">\n",
       "  <thead>\n",
       "    <tr style=\"text-align: right;\">\n",
       "      <th></th>\n",
       "      <th>Codigo</th>\n",
       "      <th>Actual</th>\n",
       "      <th>Precio01</th>\n",
       "      <th>Precio02</th>\n",
       "      <th>Precio03</th>\n",
       "    </tr>\n",
       "  </thead>\n",
       "  <tbody>\n",
       "    <tr>\n",
       "      <th>count</th>\n",
       "      <td>315.00000</td>\n",
       "      <td>315.000000</td>\n",
       "      <td>315.000000</td>\n",
       "      <td>315.000000</td>\n",
       "      <td>315.000000</td>\n",
       "    </tr>\n",
       "    <tr>\n",
       "      <th>mean</th>\n",
       "      <td>479.08254</td>\n",
       "      <td>-6889.831479</td>\n",
       "      <td>357.754984</td>\n",
       "      <td>378.380902</td>\n",
       "      <td>342.339244</td>\n",
       "    </tr>\n",
       "    <tr>\n",
       "      <th>std</th>\n",
       "      <td>5630.59662</td>\n",
       "      <td>47031.941345</td>\n",
       "      <td>1003.693673</td>\n",
       "      <td>1054.014722</td>\n",
       "      <td>953.634124</td>\n",
       "    </tr>\n",
       "    <tr>\n",
       "      <th>min</th>\n",
       "      <td>1.00000</td>\n",
       "      <td>-668664.000000</td>\n",
       "      <td>0.000000</td>\n",
       "      <td>0.000000</td>\n",
       "      <td>0.000000</td>\n",
       "    </tr>\n",
       "    <tr>\n",
       "      <th>25%</th>\n",
       "      <td>82.50000</td>\n",
       "      <td>-1551.000000</td>\n",
       "      <td>13.500000</td>\n",
       "      <td>14.360000</td>\n",
       "      <td>12.990000</td>\n",
       "    </tr>\n",
       "    <tr>\n",
       "      <th>50%</th>\n",
       "      <td>161.00000</td>\n",
       "      <td>-121.000000</td>\n",
       "      <td>63.000000</td>\n",
       "      <td>66.150000</td>\n",
       "      <td>59.850000</td>\n",
       "    </tr>\n",
       "    <tr>\n",
       "      <th>75%</th>\n",
       "      <td>239.50000</td>\n",
       "      <td>-20.000000</td>\n",
       "      <td>298.100000</td>\n",
       "      <td>313.690000</td>\n",
       "      <td>283.815000</td>\n",
       "    </tr>\n",
       "    <tr>\n",
       "      <th>max</th>\n",
       "      <td>100080.00000</td>\n",
       "      <td>0.000000</td>\n",
       "      <td>9999.000000</td>\n",
       "      <td>10498.950000</td>\n",
       "      <td>9499.050000</td>\n",
       "    </tr>\n",
       "  </tbody>\n",
       "</table>\n",
       "</div>"
      ],
      "text/plain": [
       "             Codigo         Actual     Precio01      Precio02     Precio03\n",
       "count     315.00000     315.000000   315.000000    315.000000   315.000000\n",
       "mean      479.08254   -6889.831479   357.754984    378.380902   342.339244\n",
       "std      5630.59662   47031.941345  1003.693673   1054.014722   953.634124\n",
       "min         1.00000 -668664.000000     0.000000      0.000000     0.000000\n",
       "25%        82.50000   -1551.000000    13.500000     14.360000    12.990000\n",
       "50%       161.00000    -121.000000    63.000000     66.150000    59.850000\n",
       "75%       239.50000     -20.000000   298.100000    313.690000   283.815000\n",
       "max    100080.00000       0.000000  9999.000000  10498.950000  9499.050000"
      ]
     },
     "execution_count": 4,
     "metadata": {},
     "output_type": "execute_result"
    }
   ],
   "source": [
    "articulos_df.describe()"
   ]
  },
  {
   "cell_type": "code",
   "execution_count": 5,
   "metadata": {},
   "outputs": [
    {
     "data": {
      "text/plain": [
       "(315, 8)"
      ]
     },
     "execution_count": 5,
     "metadata": {},
     "output_type": "execute_result"
    }
   ],
   "source": [
    "articulos_df.shape"
   ]
  },
  {
   "cell_type": "code",
   "execution_count": 6,
   "metadata": {},
   "outputs": [
    {
     "data": {
      "text/plain": [
       "Codigo            int64\n",
       "UM               object\n",
       "Descripcion1     object\n",
       "Actual          float64\n",
       "Precio01        float64\n",
       "Precio02        float64\n",
       "Precio03        float64\n",
       "Estado           object\n",
       "dtype: object"
      ]
     },
     "execution_count": 6,
     "metadata": {},
     "output_type": "execute_result"
    }
   ],
   "source": [
    "articulos_df.dtypes"
   ]
  },
  {
   "cell_type": "code",
   "execution_count": 7,
   "metadata": {},
   "outputs": [
    {
     "name": "stdout",
     "output_type": "stream",
     "text": [
      "<class 'pandas.core.frame.DataFrame'>\n",
      "RangeIndex: 315 entries, 0 to 314\n",
      "Data columns (total 8 columns):\n",
      " #   Column        Non-Null Count  Dtype  \n",
      "---  ------        --------------  -----  \n",
      " 0   Codigo        315 non-null    int64  \n",
      " 1   UM            315 non-null    object \n",
      " 2   Descripcion1  315 non-null    object \n",
      " 3   Actual        315 non-null    float64\n",
      " 4   Precio01      315 non-null    float64\n",
      " 5   Precio02      315 non-null    float64\n",
      " 6   Precio03      315 non-null    float64\n",
      " 7   Estado        315 non-null    object \n",
      "dtypes: float64(4), int64(1), object(3)\n",
      "memory usage: 19.8+ KB\n"
     ]
    }
   ],
   "source": [
    "articulos_df.info()"
   ]
  },
  {
   "cell_type": "code",
   "execution_count": 8,
   "metadata": {},
   "outputs": [
    {
     "data": {
      "text/plain": [
       "Codigo          0\n",
       "UM              0\n",
       "Descripcion1    0\n",
       "Actual          0\n",
       "Precio01        0\n",
       "Precio02        0\n",
       "Precio03        0\n",
       "Estado          0\n",
       "dtype: int64"
      ]
     },
     "execution_count": 8,
     "metadata": {},
     "output_type": "execute_result"
    }
   ],
   "source": [
    "articulos_df.isnull().sum() "
   ]
  },
  {
   "attachments": {},
   "cell_type": "markdown",
   "metadata": {},
   "source": [
    "# UnidadMedida"
   ]
  },
  {
   "cell_type": "code",
   "execution_count": 9,
   "metadata": {},
   "outputs": [
    {
     "data": {
      "text/html": [
       "<div>\n",
       "<style scoped>\n",
       "    .dataframe tbody tr th:only-of-type {\n",
       "        vertical-align: middle;\n",
       "    }\n",
       "\n",
       "    .dataframe tbody tr th {\n",
       "        vertical-align: top;\n",
       "    }\n",
       "\n",
       "    .dataframe thead th {\n",
       "        text-align: right;\n",
       "    }\n",
       "</style>\n",
       "<table border=\"1\" class=\"dataframe\">\n",
       "  <thead>\n",
       "    <tr style=\"text-align: right;\">\n",
       "      <th></th>\n",
       "      <th>IdUM</th>\n",
       "      <th>UM</th>\n",
       "      <th>Decimales</th>\n",
       "      <th>Obs</th>\n",
       "      <th>Estado</th>\n",
       "      <th>FechaHora</th>\n",
       "      <th>Usuario</th>\n",
       "      <th>Linked</th>\n",
       "    </tr>\n",
       "  </thead>\n",
       "  <tbody>\n",
       "    <tr>\n",
       "      <th>0</th>\n",
       "      <td>11</td>\n",
       "      <td>Uni</td>\n",
       "      <td>0</td>\n",
       "      <td>unidad.</td>\n",
       "      <td>1</td>\n",
       "      <td>NaN</td>\n",
       "      <td>0</td>\n",
       "      <td>0</td>\n",
       "    </tr>\n",
       "    <tr>\n",
       "      <th>1</th>\n",
       "      <td>12</td>\n",
       "      <td>Kg</td>\n",
       "      <td>3</td>\n",
       "      <td>NaN</td>\n",
       "      <td>1</td>\n",
       "      <td>NaN</td>\n",
       "      <td>0</td>\n",
       "      <td>0</td>\n",
       "    </tr>\n",
       "    <tr>\n",
       "      <th>2</th>\n",
       "      <td>13</td>\n",
       "      <td>Grs</td>\n",
       "      <td>3</td>\n",
       "      <td>NaN</td>\n",
       "      <td>1</td>\n",
       "      <td>NaN</td>\n",
       "      <td>0</td>\n",
       "      <td>0</td>\n",
       "    </tr>\n",
       "  </tbody>\n",
       "</table>\n",
       "</div>"
      ],
      "text/plain": [
       "   IdUM   UM  Decimales      Obs  Estado  FechaHora  Usuario  Linked\n",
       "0    11  Uni          0  unidad.       1        NaN        0       0\n",
       "1    12   Kg          3      NaN       1        NaN        0       0\n",
       "2    13  Grs          3      NaN       1        NaN        0       0"
      ]
     },
     "execution_count": 9,
     "metadata": {},
     "output_type": "execute_result"
    }
   ],
   "source": [
    "unidad_medida_df.head()"
   ]
  },
  {
   "cell_type": "code",
   "execution_count": 10,
   "metadata": {},
   "outputs": [
    {
     "data": {
      "text/plain": [
       "Index(['IdUM', 'UM', 'Decimales', 'Obs', 'Estado', 'FechaHora', 'Usuario',\n",
       "       'Linked'],\n",
       "      dtype='object')"
      ]
     },
     "execution_count": 10,
     "metadata": {},
     "output_type": "execute_result"
    }
   ],
   "source": [
    "unidad_medida_df.columns "
   ]
  },
  {
   "cell_type": "code",
   "execution_count": 11,
   "metadata": {},
   "outputs": [
    {
     "data": {
      "text/html": [
       "<div>\n",
       "<style scoped>\n",
       "    .dataframe tbody tr th:only-of-type {\n",
       "        vertical-align: middle;\n",
       "    }\n",
       "\n",
       "    .dataframe tbody tr th {\n",
       "        vertical-align: top;\n",
       "    }\n",
       "\n",
       "    .dataframe thead th {\n",
       "        text-align: right;\n",
       "    }\n",
       "</style>\n",
       "<table border=\"1\" class=\"dataframe\">\n",
       "  <thead>\n",
       "    <tr style=\"text-align: right;\">\n",
       "      <th></th>\n",
       "      <th>IdUM</th>\n",
       "      <th>Decimales</th>\n",
       "      <th>Estado</th>\n",
       "      <th>FechaHora</th>\n",
       "      <th>Usuario</th>\n",
       "      <th>Linked</th>\n",
       "    </tr>\n",
       "  </thead>\n",
       "  <tbody>\n",
       "    <tr>\n",
       "      <th>count</th>\n",
       "      <td>3.0</td>\n",
       "      <td>3.000000</td>\n",
       "      <td>3.0</td>\n",
       "      <td>0.0</td>\n",
       "      <td>3.0</td>\n",
       "      <td>3.0</td>\n",
       "    </tr>\n",
       "    <tr>\n",
       "      <th>mean</th>\n",
       "      <td>12.0</td>\n",
       "      <td>2.000000</td>\n",
       "      <td>1.0</td>\n",
       "      <td>NaN</td>\n",
       "      <td>0.0</td>\n",
       "      <td>0.0</td>\n",
       "    </tr>\n",
       "    <tr>\n",
       "      <th>std</th>\n",
       "      <td>1.0</td>\n",
       "      <td>1.732051</td>\n",
       "      <td>0.0</td>\n",
       "      <td>NaN</td>\n",
       "      <td>0.0</td>\n",
       "      <td>0.0</td>\n",
       "    </tr>\n",
       "    <tr>\n",
       "      <th>min</th>\n",
       "      <td>11.0</td>\n",
       "      <td>0.000000</td>\n",
       "      <td>1.0</td>\n",
       "      <td>NaN</td>\n",
       "      <td>0.0</td>\n",
       "      <td>0.0</td>\n",
       "    </tr>\n",
       "    <tr>\n",
       "      <th>25%</th>\n",
       "      <td>11.5</td>\n",
       "      <td>1.500000</td>\n",
       "      <td>1.0</td>\n",
       "      <td>NaN</td>\n",
       "      <td>0.0</td>\n",
       "      <td>0.0</td>\n",
       "    </tr>\n",
       "    <tr>\n",
       "      <th>50%</th>\n",
       "      <td>12.0</td>\n",
       "      <td>3.000000</td>\n",
       "      <td>1.0</td>\n",
       "      <td>NaN</td>\n",
       "      <td>0.0</td>\n",
       "      <td>0.0</td>\n",
       "    </tr>\n",
       "    <tr>\n",
       "      <th>75%</th>\n",
       "      <td>12.5</td>\n",
       "      <td>3.000000</td>\n",
       "      <td>1.0</td>\n",
       "      <td>NaN</td>\n",
       "      <td>0.0</td>\n",
       "      <td>0.0</td>\n",
       "    </tr>\n",
       "    <tr>\n",
       "      <th>max</th>\n",
       "      <td>13.0</td>\n",
       "      <td>3.000000</td>\n",
       "      <td>1.0</td>\n",
       "      <td>NaN</td>\n",
       "      <td>0.0</td>\n",
       "      <td>0.0</td>\n",
       "    </tr>\n",
       "  </tbody>\n",
       "</table>\n",
       "</div>"
      ],
      "text/plain": [
       "       IdUM  Decimales  Estado  FechaHora  Usuario  Linked\n",
       "count   3.0   3.000000     3.0        0.0      3.0     3.0\n",
       "mean   12.0   2.000000     1.0        NaN      0.0     0.0\n",
       "std     1.0   1.732051     0.0        NaN      0.0     0.0\n",
       "min    11.0   0.000000     1.0        NaN      0.0     0.0\n",
       "25%    11.5   1.500000     1.0        NaN      0.0     0.0\n",
       "50%    12.0   3.000000     1.0        NaN      0.0     0.0\n",
       "75%    12.5   3.000000     1.0        NaN      0.0     0.0\n",
       "max    13.0   3.000000     1.0        NaN      0.0     0.0"
      ]
     },
     "execution_count": 11,
     "metadata": {},
     "output_type": "execute_result"
    }
   ],
   "source": [
    "unidad_medida_df.describe()"
   ]
  },
  {
   "cell_type": "code",
   "execution_count": 12,
   "metadata": {},
   "outputs": [
    {
     "data": {
      "text/plain": [
       "(3, 8)"
      ]
     },
     "execution_count": 12,
     "metadata": {},
     "output_type": "execute_result"
    }
   ],
   "source": [
    "unidad_medida_df.shape"
   ]
  },
  {
   "cell_type": "code",
   "execution_count": 13,
   "metadata": {},
   "outputs": [
    {
     "data": {
      "text/plain": [
       "IdUM           int64\n",
       "UM            object\n",
       "Decimales      int64\n",
       "Obs           object\n",
       "Estado         int64\n",
       "FechaHora    float64\n",
       "Usuario        int64\n",
       "Linked         int64\n",
       "dtype: object"
      ]
     },
     "execution_count": 13,
     "metadata": {},
     "output_type": "execute_result"
    }
   ],
   "source": [
    "unidad_medida_df.dtypes"
   ]
  },
  {
   "cell_type": "code",
   "execution_count": 14,
   "metadata": {},
   "outputs": [
    {
     "name": "stdout",
     "output_type": "stream",
     "text": [
      "<class 'pandas.core.frame.DataFrame'>\n",
      "RangeIndex: 3 entries, 0 to 2\n",
      "Data columns (total 8 columns):\n",
      " #   Column     Non-Null Count  Dtype  \n",
      "---  ------     --------------  -----  \n",
      " 0   IdUM       3 non-null      int64  \n",
      " 1   UM         3 non-null      object \n",
      " 2   Decimales  3 non-null      int64  \n",
      " 3   Obs        1 non-null      object \n",
      " 4   Estado     3 non-null      int64  \n",
      " 5   FechaHora  0 non-null      float64\n",
      " 6   Usuario    3 non-null      int64  \n",
      " 7   Linked     3 non-null      int64  \n",
      "dtypes: float64(1), int64(5), object(2)\n",
      "memory usage: 324.0+ bytes\n"
     ]
    }
   ],
   "source": [
    "unidad_medida_df.info()"
   ]
  },
  {
   "cell_type": "code",
   "execution_count": 15,
   "metadata": {},
   "outputs": [
    {
     "data": {
      "text/plain": [
       "IdUM         0\n",
       "UM           0\n",
       "Decimales    0\n",
       "Obs          2\n",
       "Estado       0\n",
       "FechaHora    3\n",
       "Usuario      0\n",
       "Linked       0\n",
       "dtype: int64"
      ]
     },
     "execution_count": 15,
     "metadata": {},
     "output_type": "execute_result"
    }
   ],
   "source": [
    "unidad_medida_df.isnull().sum() "
   ]
  },
  {
   "attachments": {},
   "cell_type": "markdown",
   "metadata": {},
   "source": [
    "# Clientes"
   ]
  },
  {
   "cell_type": "code",
   "execution_count": 16,
   "metadata": {},
   "outputs": [
    {
     "data": {
      "text/html": [
       "<div>\n",
       "<style scoped>\n",
       "    .dataframe tbody tr th:only-of-type {\n",
       "        vertical-align: middle;\n",
       "    }\n",
       "\n",
       "    .dataframe tbody tr th {\n",
       "        vertical-align: top;\n",
       "    }\n",
       "\n",
       "    .dataframe thead th {\n",
       "        text-align: right;\n",
       "    }\n",
       "</style>\n",
       "<table border=\"1\" class=\"dataframe\">\n",
       "  <thead>\n",
       "    <tr style=\"text-align: right;\">\n",
       "      <th></th>\n",
       "      <th>Cod_Cliente</th>\n",
       "      <th>Razon_Social</th>\n",
       "      <th>Estado</th>\n",
       "    </tr>\n",
       "  </thead>\n",
       "  <tbody>\n",
       "    <tr>\n",
       "      <th>0</th>\n",
       "      <td>1</td>\n",
       "      <td>A CONSUMIDOR FINAL</td>\n",
       "      <td>ACTIVE</td>\n",
       "    </tr>\n",
       "    <tr>\n",
       "      <th>1</th>\n",
       "      <td>2</td>\n",
       "      <td>AGUIRRE, ELVA</td>\n",
       "      <td>INACTIVE</td>\n",
       "    </tr>\n",
       "    <tr>\n",
       "      <th>2</th>\n",
       "      <td>3</td>\n",
       "      <td>GANDUGLIA RAMONA</td>\n",
       "      <td>ACTIVE</td>\n",
       "    </tr>\n",
       "    <tr>\n",
       "      <th>3</th>\n",
       "      <td>4</td>\n",
       "      <td>ALMIRON</td>\n",
       "      <td>ACTIVE</td>\n",
       "    </tr>\n",
       "    <tr>\n",
       "      <th>4</th>\n",
       "      <td>5</td>\n",
       "      <td>AVILA, RAQUEL Z. DE</td>\n",
       "      <td>INACTIVE</td>\n",
       "    </tr>\n",
       "  </tbody>\n",
       "</table>\n",
       "</div>"
      ],
      "text/plain": [
       "   Cod_Cliente         Razon_Social    Estado\n",
       "0            1   A CONSUMIDOR FINAL    ACTIVE\n",
       "1            2        AGUIRRE, ELVA  INACTIVE\n",
       "2            3     GANDUGLIA RAMONA    ACTIVE\n",
       "3            4              ALMIRON    ACTIVE\n",
       "4            5  AVILA, RAQUEL Z. DE  INACTIVE"
      ]
     },
     "execution_count": 16,
     "metadata": {},
     "output_type": "execute_result"
    }
   ],
   "source": [
    "clientes_df.head()"
   ]
  },
  {
   "cell_type": "code",
   "execution_count": 17,
   "metadata": {},
   "outputs": [
    {
     "data": {
      "text/plain": [
       "Index(['Cod_Cliente', 'Razon_Social', 'Estado'], dtype='object')"
      ]
     },
     "execution_count": 17,
     "metadata": {},
     "output_type": "execute_result"
    }
   ],
   "source": [
    "clientes_df.columns  "
   ]
  },
  {
   "cell_type": "code",
   "execution_count": 18,
   "metadata": {},
   "outputs": [
    {
     "data": {
      "text/html": [
       "<div>\n",
       "<style scoped>\n",
       "    .dataframe tbody tr th:only-of-type {\n",
       "        vertical-align: middle;\n",
       "    }\n",
       "\n",
       "    .dataframe tbody tr th {\n",
       "        vertical-align: top;\n",
       "    }\n",
       "\n",
       "    .dataframe thead th {\n",
       "        text-align: right;\n",
       "    }\n",
       "</style>\n",
       "<table border=\"1\" class=\"dataframe\">\n",
       "  <thead>\n",
       "    <tr style=\"text-align: right;\">\n",
       "      <th></th>\n",
       "      <th>Cod_Cliente</th>\n",
       "    </tr>\n",
       "  </thead>\n",
       "  <tbody>\n",
       "    <tr>\n",
       "      <th>count</th>\n",
       "      <td>144.000000</td>\n",
       "    </tr>\n",
       "    <tr>\n",
       "      <th>mean</th>\n",
       "      <td>72.500000</td>\n",
       "    </tr>\n",
       "    <tr>\n",
       "      <th>std</th>\n",
       "      <td>41.713307</td>\n",
       "    </tr>\n",
       "    <tr>\n",
       "      <th>min</th>\n",
       "      <td>1.000000</td>\n",
       "    </tr>\n",
       "    <tr>\n",
       "      <th>25%</th>\n",
       "      <td>36.750000</td>\n",
       "    </tr>\n",
       "    <tr>\n",
       "      <th>50%</th>\n",
       "      <td>72.500000</td>\n",
       "    </tr>\n",
       "    <tr>\n",
       "      <th>75%</th>\n",
       "      <td>108.250000</td>\n",
       "    </tr>\n",
       "    <tr>\n",
       "      <th>max</th>\n",
       "      <td>144.000000</td>\n",
       "    </tr>\n",
       "  </tbody>\n",
       "</table>\n",
       "</div>"
      ],
      "text/plain": [
       "       Cod_Cliente\n",
       "count   144.000000\n",
       "mean     72.500000\n",
       "std      41.713307\n",
       "min       1.000000\n",
       "25%      36.750000\n",
       "50%      72.500000\n",
       "75%     108.250000\n",
       "max     144.000000"
      ]
     },
     "execution_count": 18,
     "metadata": {},
     "output_type": "execute_result"
    }
   ],
   "source": [
    "clientes_df.describe() "
   ]
  },
  {
   "cell_type": "code",
   "execution_count": 19,
   "metadata": {},
   "outputs": [
    {
     "data": {
      "text/plain": [
       "(144, 3)"
      ]
     },
     "execution_count": 19,
     "metadata": {},
     "output_type": "execute_result"
    }
   ],
   "source": [
    "clientes_df.shape "
   ]
  },
  {
   "cell_type": "code",
   "execution_count": 20,
   "metadata": {},
   "outputs": [
    {
     "data": {
      "text/plain": [
       "Cod_Cliente      int64\n",
       "Razon_Social    object\n",
       "Estado          object\n",
       "dtype: object"
      ]
     },
     "execution_count": 20,
     "metadata": {},
     "output_type": "execute_result"
    }
   ],
   "source": [
    "clientes_df.dtypes"
   ]
  },
  {
   "cell_type": "code",
   "execution_count": 21,
   "metadata": {},
   "outputs": [
    {
     "name": "stdout",
     "output_type": "stream",
     "text": [
      "<class 'pandas.core.frame.DataFrame'>\n",
      "RangeIndex: 144 entries, 0 to 143\n",
      "Data columns (total 3 columns):\n",
      " #   Column        Non-Null Count  Dtype \n",
      "---  ------        --------------  ----- \n",
      " 0   Cod_Cliente   144 non-null    int64 \n",
      " 1   Razon_Social  144 non-null    object\n",
      " 2   Estado        144 non-null    object\n",
      "dtypes: int64(1), object(2)\n",
      "memory usage: 3.5+ KB\n"
     ]
    }
   ],
   "source": [
    "clientes_df.info()"
   ]
  },
  {
   "cell_type": "code",
   "execution_count": 22,
   "metadata": {},
   "outputs": [
    {
     "data": {
      "text/plain": [
       "Cod_Cliente     0\n",
       "Razon_Social    0\n",
       "Estado          0\n",
       "dtype: int64"
      ]
     },
     "execution_count": 22,
     "metadata": {},
     "output_type": "execute_result"
    }
   ],
   "source": [
    "clientes_df.isnull().sum()  "
   ]
  },
  {
   "attachments": {},
   "cell_type": "markdown",
   "metadata": {},
   "source": [
    "# Factura"
   ]
  },
  {
   "cell_type": "code",
   "execution_count": 23,
   "metadata": {},
   "outputs": [
    {
     "data": {
      "text/html": [
       "<div>\n",
       "<style scoped>\n",
       "    .dataframe tbody tr th:only-of-type {\n",
       "        vertical-align: middle;\n",
       "    }\n",
       "\n",
       "    .dataframe tbody tr th {\n",
       "        vertical-align: top;\n",
       "    }\n",
       "\n",
       "    .dataframe thead th {\n",
       "        text-align: right;\n",
       "    }\n",
       "</style>\n",
       "<table border=\"1\" class=\"dataframe\">\n",
       "  <thead>\n",
       "    <tr style=\"text-align: right;\">\n",
       "      <th></th>\n",
       "      <th>IdFactura</th>\n",
       "      <th>NroDoc</th>\n",
       "      <th>FechaFactura</th>\n",
       "      <th>IdCliente</th>\n",
       "      <th>Total</th>\n",
       "      <th>Estado</th>\n",
       "    </tr>\n",
       "  </thead>\n",
       "  <tbody>\n",
       "    <tr>\n",
       "      <th>0</th>\n",
       "      <td>1</td>\n",
       "      <td>1</td>\n",
       "      <td>08/20/11 00:00:00</td>\n",
       "      <td>40</td>\n",
       "      <td>104.04</td>\n",
       "      <td>ACTIVE</td>\n",
       "    </tr>\n",
       "    <tr>\n",
       "      <th>1</th>\n",
       "      <td>2</td>\n",
       "      <td>2</td>\n",
       "      <td>08/20/11 00:00:00</td>\n",
       "      <td>49</td>\n",
       "      <td>225.12</td>\n",
       "      <td>ACTIVE</td>\n",
       "    </tr>\n",
       "    <tr>\n",
       "      <th>2</th>\n",
       "      <td>3</td>\n",
       "      <td>3</td>\n",
       "      <td>08/20/11 00:00:00</td>\n",
       "      <td>6</td>\n",
       "      <td>162.60</td>\n",
       "      <td>ACTIVE</td>\n",
       "    </tr>\n",
       "    <tr>\n",
       "      <th>3</th>\n",
       "      <td>4</td>\n",
       "      <td>4</td>\n",
       "      <td>08/20/11 00:00:00</td>\n",
       "      <td>37</td>\n",
       "      <td>119.05</td>\n",
       "      <td>ACTIVE</td>\n",
       "    </tr>\n",
       "    <tr>\n",
       "      <th>4</th>\n",
       "      <td>5</td>\n",
       "      <td>5</td>\n",
       "      <td>08/20/11 00:00:00</td>\n",
       "      <td>50</td>\n",
       "      <td>72.47</td>\n",
       "      <td>ACTIVE</td>\n",
       "    </tr>\n",
       "  </tbody>\n",
       "</table>\n",
       "</div>"
      ],
      "text/plain": [
       "   IdFactura  NroDoc       FechaFactura  IdCliente   Total  Estado\n",
       "0          1       1  08/20/11 00:00:00         40  104.04  ACTIVE\n",
       "1          2       2  08/20/11 00:00:00         49  225.12  ACTIVE\n",
       "2          3       3  08/20/11 00:00:00          6  162.60  ACTIVE\n",
       "3          4       4  08/20/11 00:00:00         37  119.05  ACTIVE\n",
       "4          5       5  08/20/11 00:00:00         50   72.47  ACTIVE"
      ]
     },
     "execution_count": 23,
     "metadata": {},
     "output_type": "execute_result"
    }
   ],
   "source": [
    "factura_df.head()"
   ]
  },
  {
   "cell_type": "code",
   "execution_count": 24,
   "metadata": {},
   "outputs": [
    {
     "data": {
      "text/plain": [
       "Index(['IdFactura', 'NroDoc', 'FechaFactura', 'IdCliente', 'Total', 'Estado'], dtype='object')"
      ]
     },
     "execution_count": 24,
     "metadata": {},
     "output_type": "execute_result"
    }
   ],
   "source": [
    "factura_df.columns"
   ]
  },
  {
   "cell_type": "code",
   "execution_count": 25,
   "metadata": {},
   "outputs": [
    {
     "data": {
      "text/html": [
       "<div>\n",
       "<style scoped>\n",
       "    .dataframe tbody tr th:only-of-type {\n",
       "        vertical-align: middle;\n",
       "    }\n",
       "\n",
       "    .dataframe tbody tr th {\n",
       "        vertical-align: top;\n",
       "    }\n",
       "\n",
       "    .dataframe thead th {\n",
       "        text-align: right;\n",
       "    }\n",
       "</style>\n",
       "<table border=\"1\" class=\"dataframe\">\n",
       "  <thead>\n",
       "    <tr style=\"text-align: right;\">\n",
       "      <th></th>\n",
       "      <th>IdFactura</th>\n",
       "      <th>NroDoc</th>\n",
       "      <th>IdCliente</th>\n",
       "      <th>Total</th>\n",
       "    </tr>\n",
       "  </thead>\n",
       "  <tbody>\n",
       "    <tr>\n",
       "      <th>count</th>\n",
       "      <td>30596.000000</td>\n",
       "      <td>30596.000000</td>\n",
       "      <td>30596.000000</td>\n",
       "      <td>3.059600e+04</td>\n",
       "    </tr>\n",
       "    <tr>\n",
       "      <th>mean</th>\n",
       "      <td>15301.780461</td>\n",
       "      <td>15298.500000</td>\n",
       "      <td>49.246111</td>\n",
       "      <td>4.988285e+03</td>\n",
       "    </tr>\n",
       "    <tr>\n",
       "      <th>std</th>\n",
       "      <td>8835.501626</td>\n",
       "      <td>8832.448754</td>\n",
       "      <td>35.722135</td>\n",
       "      <td>3.164666e+05</td>\n",
       "    </tr>\n",
       "    <tr>\n",
       "      <th>min</th>\n",
       "      <td>1.000000</td>\n",
       "      <td>1.000000</td>\n",
       "      <td>1.000000</td>\n",
       "      <td>0.000000e+00</td>\n",
       "    </tr>\n",
       "    <tr>\n",
       "      <th>25%</th>\n",
       "      <td>7650.750000</td>\n",
       "      <td>7649.750000</td>\n",
       "      <td>20.000000</td>\n",
       "      <td>2.570575e+02</td>\n",
       "    </tr>\n",
       "    <tr>\n",
       "      <th>50%</th>\n",
       "      <td>15299.500000</td>\n",
       "      <td>15298.500000</td>\n",
       "      <td>38.000000</td>\n",
       "      <td>5.586700e+02</td>\n",
       "    </tr>\n",
       "    <tr>\n",
       "      <th>75%</th>\n",
       "      <td>22948.250000</td>\n",
       "      <td>22947.250000</td>\n",
       "      <td>77.000000</td>\n",
       "      <td>1.327557e+03</td>\n",
       "    </tr>\n",
       "    <tr>\n",
       "      <th>max</th>\n",
       "      <td>30607.000000</td>\n",
       "      <td>30596.000000</td>\n",
       "      <td>144.000000</td>\n",
       "      <td>3.944797e+07</td>\n",
       "    </tr>\n",
       "  </tbody>\n",
       "</table>\n",
       "</div>"
      ],
      "text/plain": [
       "          IdFactura        NroDoc     IdCliente         Total\n",
       "count  30596.000000  30596.000000  30596.000000  3.059600e+04\n",
       "mean   15301.780461  15298.500000     49.246111  4.988285e+03\n",
       "std     8835.501626   8832.448754     35.722135  3.164666e+05\n",
       "min        1.000000      1.000000      1.000000  0.000000e+00\n",
       "25%     7650.750000   7649.750000     20.000000  2.570575e+02\n",
       "50%    15299.500000  15298.500000     38.000000  5.586700e+02\n",
       "75%    22948.250000  22947.250000     77.000000  1.327557e+03\n",
       "max    30607.000000  30596.000000    144.000000  3.944797e+07"
      ]
     },
     "execution_count": 25,
     "metadata": {},
     "output_type": "execute_result"
    }
   ],
   "source": [
    "factura_df.describe()"
   ]
  },
  {
   "cell_type": "code",
   "execution_count": 26,
   "metadata": {},
   "outputs": [
    {
     "data": {
      "text/plain": [
       "(30596, 6)"
      ]
     },
     "execution_count": 26,
     "metadata": {},
     "output_type": "execute_result"
    }
   ],
   "source": [
    "factura_df.shape"
   ]
  },
  {
   "cell_type": "code",
   "execution_count": 27,
   "metadata": {},
   "outputs": [
    {
     "data": {
      "text/plain": [
       "IdFactura         int64\n",
       "NroDoc            int64\n",
       "FechaFactura     object\n",
       "IdCliente         int64\n",
       "Total           float64\n",
       "Estado           object\n",
       "dtype: object"
      ]
     },
     "execution_count": 27,
     "metadata": {},
     "output_type": "execute_result"
    }
   ],
   "source": [
    "factura_df.dtypes"
   ]
  },
  {
   "cell_type": "code",
   "execution_count": 28,
   "metadata": {},
   "outputs": [
    {
     "name": "stdout",
     "output_type": "stream",
     "text": [
      "<class 'pandas.core.frame.DataFrame'>\n",
      "RangeIndex: 30596 entries, 0 to 30595\n",
      "Data columns (total 6 columns):\n",
      " #   Column        Non-Null Count  Dtype  \n",
      "---  ------        --------------  -----  \n",
      " 0   IdFactura     30596 non-null  int64  \n",
      " 1   NroDoc        30596 non-null  int64  \n",
      " 2   FechaFactura  30596 non-null  object \n",
      " 3   IdCliente     30596 non-null  int64  \n",
      " 4   Total         30596 non-null  float64\n",
      " 5   Estado        30596 non-null  object \n",
      "dtypes: float64(1), int64(3), object(2)\n",
      "memory usage: 1.4+ MB\n"
     ]
    }
   ],
   "source": [
    "factura_df.info()"
   ]
  },
  {
   "cell_type": "code",
   "execution_count": 29,
   "metadata": {},
   "outputs": [
    {
     "data": {
      "text/plain": [
       "IdFactura       0\n",
       "NroDoc          0\n",
       "FechaFactura    0\n",
       "IdCliente       0\n",
       "Total           0\n",
       "Estado          0\n",
       "dtype: int64"
      ]
     },
     "execution_count": 29,
     "metadata": {},
     "output_type": "execute_result"
    }
   ],
   "source": [
    "factura_df.isnull().sum()"
   ]
  },
  {
   "attachments": {},
   "cell_type": "markdown",
   "metadata": {},
   "source": [
    "# FacturaDetalle"
   ]
  },
  {
   "cell_type": "code",
   "execution_count": 30,
   "metadata": {},
   "outputs": [
    {
     "data": {
      "text/html": [
       "<div>\n",
       "<style scoped>\n",
       "    .dataframe tbody tr th:only-of-type {\n",
       "        vertical-align: middle;\n",
       "    }\n",
       "\n",
       "    .dataframe tbody tr th {\n",
       "        vertical-align: top;\n",
       "    }\n",
       "\n",
       "    .dataframe thead th {\n",
       "        text-align: right;\n",
       "    }\n",
       "</style>\n",
       "<table border=\"1\" class=\"dataframe\">\n",
       "  <thead>\n",
       "    <tr style=\"text-align: right;\">\n",
       "      <th></th>\n",
       "      <th>IdFacturaDetalle</th>\n",
       "      <th>NroDoc</th>\n",
       "      <th>Codigo</th>\n",
       "      <th>Descripcion</th>\n",
       "      <th>Bulto</th>\n",
       "      <th>UM</th>\n",
       "      <th>Cantidad</th>\n",
       "      <th>PU</th>\n",
       "      <th>Bonif</th>\n",
       "      <th>Importe</th>\n",
       "    </tr>\n",
       "  </thead>\n",
       "  <tbody>\n",
       "    <tr>\n",
       "      <th>0</th>\n",
       "      <td>1</td>\n",
       "      <td>1</td>\n",
       "      <td>38</td>\n",
       "      <td>LECHE DESCREMADA LARGA VIDA ILOLAY X 1 LT</td>\n",
       "      <td>12.0</td>\n",
       "      <td>Uni</td>\n",
       "      <td>12.0</td>\n",
       "      <td>4.3</td>\n",
       "      <td>0.0</td>\n",
       "      <td>51.60</td>\n",
       "    </tr>\n",
       "    <tr>\n",
       "      <th>1</th>\n",
       "      <td>2</td>\n",
       "      <td>1</td>\n",
       "      <td>19</td>\n",
       "      <td>QUESO CREMOSO CREMIGAL</td>\n",
       "      <td>0.0</td>\n",
       "      <td>Kg</td>\n",
       "      <td>1.9</td>\n",
       "      <td>27.6</td>\n",
       "      <td>0.0</td>\n",
       "      <td>52.44</td>\n",
       "    </tr>\n",
       "    <tr>\n",
       "      <th>2</th>\n",
       "      <td>3</td>\n",
       "      <td>2</td>\n",
       "      <td>38</td>\n",
       "      <td>LECHE DESCREMADA LARGA VIDA ILOLAY X 1 LT</td>\n",
       "      <td>6.0</td>\n",
       "      <td>Uni</td>\n",
       "      <td>6.0</td>\n",
       "      <td>4.3</td>\n",
       "      <td>0.0</td>\n",
       "      <td>25.80</td>\n",
       "    </tr>\n",
       "    <tr>\n",
       "      <th>3</th>\n",
       "      <td>4</td>\n",
       "      <td>2</td>\n",
       "      <td>93</td>\n",
       "      <td>CALDO X 6 WILDE</td>\n",
       "      <td>12.0</td>\n",
       "      <td>Uni</td>\n",
       "      <td>12.0</td>\n",
       "      <td>2.5</td>\n",
       "      <td>0.0</td>\n",
       "      <td>30.00</td>\n",
       "    </tr>\n",
       "    <tr>\n",
       "      <th>4</th>\n",
       "      <td>5</td>\n",
       "      <td>2</td>\n",
       "      <td>6</td>\n",
       "      <td>DULCE DE LECHE ILOLAY X 400 GRS</td>\n",
       "      <td>2.0</td>\n",
       "      <td>Uni</td>\n",
       "      <td>2.0</td>\n",
       "      <td>6.1</td>\n",
       "      <td>0.0</td>\n",
       "      <td>12.20</td>\n",
       "    </tr>\n",
       "  </tbody>\n",
       "</table>\n",
       "</div>"
      ],
      "text/plain": [
       "   IdFacturaDetalle  NroDoc  Codigo  \\\n",
       "0                 1       1      38   \n",
       "1                 2       1      19   \n",
       "2                 3       2      38   \n",
       "3                 4       2      93   \n",
       "4                 5       2       6   \n",
       "\n",
       "                                 Descripcion  Bulto   UM  Cantidad    PU  \\\n",
       "0  LECHE DESCREMADA LARGA VIDA ILOLAY X 1 LT   12.0  Uni      12.0   4.3   \n",
       "1                     QUESO CREMOSO CREMIGAL    0.0   Kg       1.9  27.6   \n",
       "2  LECHE DESCREMADA LARGA VIDA ILOLAY X 1 LT    6.0  Uni       6.0   4.3   \n",
       "3                            CALDO X 6 WILDE   12.0  Uni      12.0   2.5   \n",
       "4            DULCE DE LECHE ILOLAY X 400 GRS    2.0  Uni       2.0   6.1   \n",
       "\n",
       "   Bonif  Importe  \n",
       "0    0.0    51.60  \n",
       "1    0.0    52.44  \n",
       "2    0.0    25.80  \n",
       "3    0.0    30.00  \n",
       "4    0.0    12.20  "
      ]
     },
     "execution_count": 30,
     "metadata": {},
     "output_type": "execute_result"
    }
   ],
   "source": [
    "factura_detalle_df.head()"
   ]
  },
  {
   "cell_type": "code",
   "execution_count": 31,
   "metadata": {},
   "outputs": [
    {
     "data": {
      "text/plain": [
       "Index(['IdFacturaDetalle', 'NroDoc', 'Codigo', 'Descripcion', 'Bulto', 'UM',\n",
       "       'Cantidad', 'PU', 'Bonif', 'Importe'],\n",
       "      dtype='object')"
      ]
     },
     "execution_count": 31,
     "metadata": {},
     "output_type": "execute_result"
    }
   ],
   "source": [
    "factura_detalle_df.columns"
   ]
  },
  {
   "cell_type": "code",
   "execution_count": 32,
   "metadata": {},
   "outputs": [
    {
     "data": {
      "text/html": [
       "<div>\n",
       "<style scoped>\n",
       "    .dataframe tbody tr th:only-of-type {\n",
       "        vertical-align: middle;\n",
       "    }\n",
       "\n",
       "    .dataframe tbody tr th {\n",
       "        vertical-align: top;\n",
       "    }\n",
       "\n",
       "    .dataframe thead th {\n",
       "        text-align: right;\n",
       "    }\n",
       "</style>\n",
       "<table border=\"1\" class=\"dataframe\">\n",
       "  <thead>\n",
       "    <tr style=\"text-align: right;\">\n",
       "      <th></th>\n",
       "      <th>IdFacturaDetalle</th>\n",
       "      <th>NroDoc</th>\n",
       "      <th>Codigo</th>\n",
       "      <th>Bulto</th>\n",
       "      <th>Cantidad</th>\n",
       "      <th>PU</th>\n",
       "      <th>Bonif</th>\n",
       "      <th>Importe</th>\n",
       "    </tr>\n",
       "  </thead>\n",
       "  <tbody>\n",
       "    <tr>\n",
       "      <th>count</th>\n",
       "      <td>154115.000000</td>\n",
       "      <td>154115.000000</td>\n",
       "      <td>154115.000000</td>\n",
       "      <td>154115.000000</td>\n",
       "      <td>154115.000000</td>\n",
       "      <td>154115.000000</td>\n",
       "      <td>154115.000000</td>\n",
       "      <td>154115.000000</td>\n",
       "    </tr>\n",
       "    <tr>\n",
       "      <th>mean</th>\n",
       "      <td>86507.161431</td>\n",
       "      <td>13741.509723</td>\n",
       "      <td>352.178698</td>\n",
       "      <td>4.961553</td>\n",
       "      <td>6.619840</td>\n",
       "      <td>66.905015</td>\n",
       "      <td>0.156260</td>\n",
       "      <td>288.881962</td>\n",
       "    </tr>\n",
       "    <tr>\n",
       "      <th>std</th>\n",
       "      <td>51740.687345</td>\n",
       "      <td>8528.864709</td>\n",
       "      <td>5177.804202</td>\n",
       "      <td>6.021190</td>\n",
       "      <td>6.446784</td>\n",
       "      <td>435.562145</td>\n",
       "      <td>3.603091</td>\n",
       "      <td>1303.702818</td>\n",
       "    </tr>\n",
       "    <tr>\n",
       "      <th>min</th>\n",
       "      <td>1.000000</td>\n",
       "      <td>1.000000</td>\n",
       "      <td>1.000000</td>\n",
       "      <td>0.000000</td>\n",
       "      <td>0.350000</td>\n",
       "      <td>0.000000</td>\n",
       "      <td>0.000000</td>\n",
       "      <td>0.000000</td>\n",
       "    </tr>\n",
       "    <tr>\n",
       "      <th>25%</th>\n",
       "      <td>41834.500000</td>\n",
       "      <td>6328.000000</td>\n",
       "      <td>16.000000</td>\n",
       "      <td>1.000000</td>\n",
       "      <td>3.000000</td>\n",
       "      <td>6.800000</td>\n",
       "      <td>0.000000</td>\n",
       "      <td>34.900000</td>\n",
       "    </tr>\n",
       "    <tr>\n",
       "      <th>50%</th>\n",
       "      <td>84748.000000</td>\n",
       "      <td>13310.000000</td>\n",
       "      <td>38.000000</td>\n",
       "      <td>4.000000</td>\n",
       "      <td>5.000000</td>\n",
       "      <td>15.350000</td>\n",
       "      <td>0.000000</td>\n",
       "      <td>80.810000</td>\n",
       "    </tr>\n",
       "    <tr>\n",
       "      <th>75%</th>\n",
       "      <td>129251.500000</td>\n",
       "      <td>20639.000000</td>\n",
       "      <td>66.000000</td>\n",
       "      <td>6.000000</td>\n",
       "      <td>8.000000</td>\n",
       "      <td>51.500000</td>\n",
       "      <td>0.000000</td>\n",
       "      <td>213.300000</td>\n",
       "    </tr>\n",
       "    <tr>\n",
       "      <th>max</th>\n",
       "      <td>180964.000000</td>\n",
       "      <td>30586.000000</td>\n",
       "      <td>100080.000000</td>\n",
       "      <td>247.000000</td>\n",
       "      <td>99.000000</td>\n",
       "      <td>155555.000000</td>\n",
       "      <td>100.000000</td>\n",
       "      <td>233640.000000</td>\n",
       "    </tr>\n",
       "  </tbody>\n",
       "</table>\n",
       "</div>"
      ],
      "text/plain": [
       "       IdFacturaDetalle         NroDoc         Codigo          Bulto  \\\n",
       "count     154115.000000  154115.000000  154115.000000  154115.000000   \n",
       "mean       86507.161431   13741.509723     352.178698       4.961553   \n",
       "std        51740.687345    8528.864709    5177.804202       6.021190   \n",
       "min            1.000000       1.000000       1.000000       0.000000   \n",
       "25%        41834.500000    6328.000000      16.000000       1.000000   \n",
       "50%        84748.000000   13310.000000      38.000000       4.000000   \n",
       "75%       129251.500000   20639.000000      66.000000       6.000000   \n",
       "max       180964.000000   30586.000000  100080.000000     247.000000   \n",
       "\n",
       "            Cantidad             PU          Bonif        Importe  \n",
       "count  154115.000000  154115.000000  154115.000000  154115.000000  \n",
       "mean        6.619840      66.905015       0.156260     288.881962  \n",
       "std         6.446784     435.562145       3.603091    1303.702818  \n",
       "min         0.350000       0.000000       0.000000       0.000000  \n",
       "25%         3.000000       6.800000       0.000000      34.900000  \n",
       "50%         5.000000      15.350000       0.000000      80.810000  \n",
       "75%         8.000000      51.500000       0.000000     213.300000  \n",
       "max        99.000000  155555.000000     100.000000  233640.000000  "
      ]
     },
     "execution_count": 32,
     "metadata": {},
     "output_type": "execute_result"
    }
   ],
   "source": [
    "factura_detalle_df.describe()"
   ]
  },
  {
   "cell_type": "code",
   "execution_count": 33,
   "metadata": {},
   "outputs": [
    {
     "data": {
      "text/plain": [
       "(154115, 10)"
      ]
     },
     "execution_count": 33,
     "metadata": {},
     "output_type": "execute_result"
    }
   ],
   "source": [
    "factura_detalle_df.shape"
   ]
  },
  {
   "cell_type": "code",
   "execution_count": 34,
   "metadata": {},
   "outputs": [
    {
     "data": {
      "text/plain": [
       "IdFacturaDetalle      int64\n",
       "NroDoc                int64\n",
       "Codigo                int64\n",
       "Descripcion          object\n",
       "Bulto               float64\n",
       "UM                   object\n",
       "Cantidad            float64\n",
       "PU                  float64\n",
       "Bonif               float64\n",
       "Importe             float64\n",
       "dtype: object"
      ]
     },
     "execution_count": 34,
     "metadata": {},
     "output_type": "execute_result"
    }
   ],
   "source": [
    "factura_detalle_df.dtypes"
   ]
  },
  {
   "cell_type": "code",
   "execution_count": 35,
   "metadata": {},
   "outputs": [
    {
     "name": "stdout",
     "output_type": "stream",
     "text": [
      "<class 'pandas.core.frame.DataFrame'>\n",
      "RangeIndex: 154115 entries, 0 to 154114\n",
      "Data columns (total 10 columns):\n",
      " #   Column            Non-Null Count   Dtype  \n",
      "---  ------            --------------   -----  \n",
      " 0   IdFacturaDetalle  154115 non-null  int64  \n",
      " 1   NroDoc            154115 non-null  int64  \n",
      " 2   Codigo            154115 non-null  int64  \n",
      " 3   Descripcion       154115 non-null  object \n",
      " 4   Bulto             154115 non-null  float64\n",
      " 5   UM                154115 non-null  object \n",
      " 6   Cantidad          154115 non-null  float64\n",
      " 7   PU                154115 non-null  float64\n",
      " 8   Bonif             154115 non-null  float64\n",
      " 9   Importe           154115 non-null  float64\n",
      "dtypes: float64(5), int64(3), object(2)\n",
      "memory usage: 11.8+ MB\n"
     ]
    }
   ],
   "source": [
    "factura_detalle_df.info()"
   ]
  },
  {
   "cell_type": "code",
   "execution_count": 36,
   "metadata": {},
   "outputs": [
    {
     "data": {
      "text/plain": [
       "IdFacturaDetalle    0\n",
       "NroDoc              0\n",
       "Codigo              0\n",
       "Descripcion         0\n",
       "Bulto               0\n",
       "UM                  0\n",
       "Cantidad            0\n",
       "PU                  0\n",
       "Bonif               0\n",
       "Importe             0\n",
       "dtype: int64"
      ]
     },
     "execution_count": 36,
     "metadata": {},
     "output_type": "execute_result"
    }
   ],
   "source": [
    "factura_detalle_df.isnull().sum()"
   ]
  }
 ],
 "metadata": {
  "kernelspec": {
   "display_name": "venv",
   "language": "python",
   "name": "python3"
  },
  "language_info": {
   "codemirror_mode": {
    "name": "ipython",
    "version": 3
   },
   "file_extension": ".py",
   "mimetype": "text/x-python",
   "name": "python",
   "nbconvert_exporter": "python",
   "pygments_lexer": "ipython3",
   "version": "3.11.4"
  }
 },
 "nbformat": 4,
 "nbformat_minor": 4
}
